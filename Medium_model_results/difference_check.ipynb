{
 "cells": [
  {
   "cell_type": "markdown",
   "metadata": {},
   "source": [
    "# Compare different transcription files "
   ]
  },
  {
   "cell_type": "code",
   "execution_count": 12,
   "metadata": {},
   "outputs": [],
   "source": [
    "def compare_files(file1, file2):\n",
    "   #calculate jaccard similarity between two files\n",
    "    with open(file1, 'r') as f1, open(file2, 'r') as f2:\n",
    "        s1 = set(f1.read().lower().split())\n",
    "        #print(s1)\n",
    "        s2 = set(f2.read().lower().split())\n",
    "        #print(s2)\n",
    "        return len(s1.intersection(s2)) / len(s1.union(s2))"
   ]
  },
  {
   "cell_type": "markdown",
   "metadata": {},
   "source": [
    "### Compare corresonding files in transcription and assembly_sandbox folder"
   ]
  },
  {
   "cell_type": "code",
   "execution_count": 26,
   "metadata": {},
   "outputs": [
    {
     "name": "stdout",
     "output_type": "stream",
     "text": [
      "interviewer_t002tiny.en.txt interviewer_t002_assemblyAI.txt\n",
      "Tiny Model:  0.3479599692070824\n",
      "Base Model:  0.34563253012048195\n",
      "Medium Model:  0.3525789068514242\n",
      "##################################################\n",
      "interviewer_t003tiny.en.txt interviewer_t003_assemblyAI.txt\n",
      "Tiny Model:  0.7343324250681199\n",
      "Base Model:  0.7777777777777778\n",
      "Medium Model:  0.7854137447405329\n",
      "##################################################\n",
      "output_audio_shgn7_s001_s001_t002tiny.en.txt output_audio_shgn7_s001_s001_t002_assemblyAI.txt\n",
      "Tiny Model:  0.6543778801843319\n",
      "Base Model:  0.7388414055080722\n",
      "Medium Model:  0.7552447552447552\n",
      "##################################################\n",
      "output_audio_shgn7_s001_s001_t003tiny.en.txt output_audio_shgn7_s001_s001_t003_assemblyAI.txt\n",
      "Tiny Model:  0.7569060773480663\n",
      "Base Model:  0.7833333333333333\n",
      "Medium Model:  0.8185714285714286\n",
      "##################################################\n"
     ]
    }
   ],
   "source": [
    "# list files in transcription folder\n",
    "# list files in assembly_sandbox folder\n",
    "# sort the files\n",
    "# compare the files\n",
    "\n",
    "import os\n",
    "#get all files in transcription folder with tiny in the name\n",
    "tiny_transcription_files = [f for f in os.listdir('transcription') if 'tiny' in f]\n",
    "#get all files in transcription folder with base in the name\n",
    "base_transcription_files = [f for f in os.listdir('transcription') if 'base' in f]\n",
    "#get all files in transcription folder with medium in the name\n",
    "medium_transcription_files = [f for f in os.listdir('transcription') if 'medium' in f]\n",
    "\n",
    "assembly_sandbox_files = os.listdir('assembly_sandbox')\n",
    "\n",
    "#compare_files('transcription/' + whisper_tiny_files[0], 'assembly_sandbox/' + assembly_sandbox_files[0])\n",
    "\n",
    "# for i in range(len(whisper_tiny_files)):\n",
    "#     print(whisper_tiny_files[i], assembly_sandbox_files[i], end=\" \")\n",
    "#     print(compare_files('transcription/'+whisper_tiny_files[i], 'assembly_sandbox/'+assembly_sandbox_files[i]))\n",
    "\n",
    "# sort the files\n",
    "tiny_transcription_files.sort()\n",
    "base_transcription_files.sort()\n",
    "medium_transcription_files.sort()\n",
    "assembly_sandbox_files.sort()\n",
    "\n",
    "# compare transcription files with assembly_sandbox files\n",
    "\n",
    "for i in range(len(tiny_transcription_files)):\n",
    "    print(tiny_transcription_files[i], assembly_sandbox_files[i])\n",
    "    print(\"Tiny Model: \", compare_files('transcription/'+tiny_transcription_files[i], 'assembly_sandbox/'+assembly_sandbox_files[i]))\n",
    "    print(\"Base Model: \",compare_files('transcription/'+base_transcription_files[i], 'assembly_sandbox/'+assembly_sandbox_files[i]))\n",
    "    print(\"Medium Model: \", compare_files('transcription/'+medium_transcription_files[i], 'assembly_sandbox/'+assembly_sandbox_files[i]))\n",
    "    print(\"#\"*50)"
   ]
  }
 ],
 "metadata": {
  "kernelspec": {
   "display_name": "Python 3.9.7 ('base')",
   "language": "python",
   "name": "python3"
  },
  "language_info": {
   "codemirror_mode": {
    "name": "ipython",
    "version": 3
   },
   "file_extension": ".py",
   "mimetype": "text/x-python",
   "name": "python",
   "nbconvert_exporter": "python",
   "pygments_lexer": "ipython3",
   "version": "3.9.7"
  },
  "orig_nbformat": 4,
  "vscode": {
   "interpreter": {
    "hash": "e42701c7312a0acf303ea5e8d69e18f8e37004062c0c49da56548b53e5cf4e88"
   }
  }
 },
 "nbformat": 4,
 "nbformat_minor": 2
}
