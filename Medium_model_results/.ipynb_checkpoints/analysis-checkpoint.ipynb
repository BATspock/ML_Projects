{
 "cells": [
  {
   "cell_type": "code",
   "execution_count": 18,
   "metadata": {},
   "outputs": [],
   "source": [
    "import numpy as np\n",
    "import pandas as pd\n",
    "import matplotlib.pyplot as plt\n",
    "import xml.etree.ElementTree as ET\n",
    "import os\n",
    "from Levenshtein import distance"
   ]
  },
  {
   "cell_type": "markdown",
   "metadata": {},
   "source": [
    "## Function to Parse XML Files"
   ]
  },
  {
   "cell_type": "code",
   "execution_count": 19,
   "metadata": {},
   "outputs": [],
   "source": [
    "def parse_xml(xml_file):\n",
    "    tree = ET.parse(xml_file)\n",
    "    words = []\n",
    "    for node in tree.findall('.//p/span'):\n",
    "        words.append(node.text)\n",
    "\n",
    "    #filter the words from xml file \n",
    "\n",
    "    filtered_words = []\n",
    "    for word in words:\n",
    "        if word == None:\n",
    "            continue\n",
    "        elif '[' not in word:\n",
    "            if ':' not in word:\n",
    "                filtered_words.append(word)\n",
    "\n",
    "    #get sets of filtered words \n",
    "    set_filtered_words = set(filtered_words)\n",
    "    #convert the lists to string\n",
    "    filtered_words_str = ' '.join(filtered_words)\n",
    "\n",
    "    return set_filtered_words, filtered_words_str"
   ]
  },
  {
   "cell_type": "code",
   "execution_count": 30,
   "metadata": {},
   "outputs": [],
   "source": [
    "#list all files in the current directory\n",
    "all_files = os.listdir()\n",
    "\n",
    "#get xml files from all_files\n",
    "xml_files = sorted([files for files in all_files if files.endswith('.xml')])[::-1]\n",
    "#get all files that end with tiny.en.txt\n",
    "tiny_files = sorted([files for files in all_files if files.endswith('tiny.en.txt')])[::-1]\n",
    "#get all files that end with base.en.txt\n",
    "base_files = sorted([files for files in all_files if files.endswith('base.en.txt')])[::-1]\n",
    "#get all files that end with small.en.txt\n",
    "small_files = sorted([files for files in all_files if files.endswith('small.en.txt')])[::-1]\n",
    "#get all files that end with medium.en.txt\n",
    "medium_files = sorted([files for files in all_files if files.endswith('medium.en.txt')])[::-1]"
   ]
  },
  {
   "cell_type": "code",
   "execution_count": 12,
   "metadata": {},
   "outputs": [],
   "source": [
    "#assert that the number of files are equal\n",
    "\n",
    "assert len(xml_files) == len(tiny_files) == len(base_files) == len(small_files) == len(medium_files)"
   ]
  },
  {
   "cell_type": "markdown",
   "metadata": {},
   "source": [
    "## Calculate Jaccard Similarity between two txt files"
   ]
  },
  {
   "cell_type": "code",
   "execution_count": 34,
   "metadata": {},
   "outputs": [],
   "source": [
    "def jaccard_similarity(list1:set, list2:set):\n",
    "    #asswert input is a set\n",
    "    assert type(list1) == set\n",
    "    assert type(list2) == set\n",
    "    intersection = len(list1.intersection(list2))\n",
    "    union = (len(list1) + len(list2)) - intersection\n",
    "    return float(intersection / union)\n",
    "\n"
   ]
  },
  {
   "cell_type": "markdown",
   "metadata": {},
   "source": [
    "## Calculate Levenshitn Similarity between two txt files\n"
   ]
  },
  {
   "cell_type": "code",
   "execution_count": 35,
   "metadata": {},
   "outputs": [],
   "source": [
    "def levenshtein_distance(list1, list2):\n",
    "    #assert input is a string\n",
    "    assert type(list1) == str\n",
    "    assert type(list2) == str\n",
    "    return distance(list1, list2)"
   ]
  },
  {
   "cell_type": "markdown",
   "metadata": {},
   "source": [
    "# Get Original Text"
   ]
  },
  {
   "cell_type": "code",
   "execution_count": 21,
   "metadata": {},
   "outputs": [],
   "source": [
    "# get the original text from the xml file and save it in a txt file\n",
    "\n",
    "for xml_file in xml_files:\n",
    "    set_filtered_words, filtered_words_str = parse_xml(xml_file)\n",
    "    with open(xml_file + '.txt', 'w') as f:\n",
    "        f.write(filtered_words_str)"
   ]
  },
  {
   "cell_type": "code",
   "execution_count": 27,
   "metadata": {},
   "outputs": [],
   "source": [
    "# get all .xml.txt files\n",
    "xml_txt_files = sorted([files for files in os.listdir() if files.endswith('.xml.txt')])[::-1]"
   ]
  },
  {
   "cell_type": "markdown",
   "metadata": {},
   "source": [
    "## Calculate the Jaccard Similarity and Levenshtein Distance between all $\\textit{.xml.txt}$ files and $\\textit{tiny.en.txt}$ files\n",
    " \n",
    "\n"
   ]
  },
  {
   "cell_type": "code",
   "execution_count": 38,
   "metadata": {},
   "outputs": [],
   "source": [
    "# calulate the jaccard similarity and levenshtein distance for .xml.txt files and tiny.en.txt files\n",
    "jaccard_similarity_tiny = []\n",
    "levenshtein_distance_tiny = []\n",
    "\n",
    "for xml_txt_file, tiny_file in zip(xml_txt_files, tiny_files):\n",
    "    #read the xml.txt file\n",
    "    with open(xml_txt_file, 'r') as f:\n",
    "        xml_txt = f.read()\n",
    "    \n",
    "    #read the tiny.en.txt file\n",
    "    with open(tiny_file, 'r') as f:\n",
    "        tiny_txt = f.read()\n",
    "    #lowercase both the txt list\n",
    "    xml_txt = xml_txt.lower()\n",
    "    tiny_txt = tiny_txt.lower()\n",
    "    #create sets so that we can calculate the jaccard similarity\n",
    "    xml_txt_set = set(xml_txt.split())\n",
    "    tiny_txt_set = set(tiny_txt.split())\n",
    "\n",
    "    jaccard_similarity_tiny.append(jaccard_similarity(xml_txt_set, tiny_txt_set))\n",
    "\n",
    "    #calculate the levenshtein distance using the strings\n",
    "    levenshtein_distance_tiny.append(levenshtein_distance(xml_txt, tiny_txt)/len(xml_txt))"
   ]
  },
  {
   "cell_type": "code",
   "execution_count": 40,
   "metadata": {},
   "outputs": [],
   "source": [
    "# similarly calculate the jaccard similarity and levenshtein distance for .xml.txt files and base.en.txt files\n",
    "\n",
    "jaccard_similarity_base = []\n",
    "levenshtein_distance_base = []\n",
    "\n",
    "for xml_txt_file, base_file in zip(xml_txt_files, base_files):\n",
    "    #read the xml.txt file\n",
    "    with open(xml_txt_file, 'r') as f:\n",
    "        xml_txt = f.read()\n",
    "    \n",
    "    #read the base.en.txt file\n",
    "    with open(base_file, 'r') as f:\n",
    "        base_txt = f.read()\n",
    "    #lowercase both the txt list\n",
    "    xml_txt = xml_txt.lower()\n",
    "    base_txt = base_txt.lower()\n",
    "    #create sets so that we can calculate the jaccard similarity\n",
    "    xml_txt_set = set(xml_txt.split())\n",
    "    base_txt_set = set(base_txt.split())\n",
    "\n",
    "    jaccard_similarity_base.append(jaccard_similarity(xml_txt_set, base_txt_set))\n",
    "\n",
    "    #calculate the levenshtein distance using the strings\n",
    "    levenshtein_distance_base.append(levenshtein_distance(xml_txt, base_txt)/len(xml_txt))"
   ]
  },
  {
   "cell_type": "code",
   "execution_count": 41,
   "metadata": {},
   "outputs": [],
   "source": [
    "# calculate the jaccard similarity and levenshtein distance for .xml.txt files and small.en.txt files\n",
    "\n",
    "jaccard_similarity_small = []   \n",
    "levenshtein_distance_small = []\n",
    "\n",
    "for xml_txt_file, small_file in zip(xml_txt_files, small_files):\n",
    "    #read the xml.txt file\n",
    "    with open(xml_txt_file, 'r') as f:\n",
    "        xml_txt = f.read()\n",
    "    \n",
    "    #read the small.en.txt file\n",
    "    with open(small_file, 'r') as f:\n",
    "        small_txt = f.read()\n",
    "    #lowercase both the txt list\n",
    "    xml_txt = xml_txt.lower()\n",
    "    small_txt = small_txt.lower()\n",
    "    #create sets so that we can calculate the jaccard similarity\n",
    "    xml_txt_set = set(xml_txt.split())\n",
    "    small_txt_set = set(small_txt.split())\n",
    "\n",
    "    jaccard_similarity_small.append(jaccard_similarity(xml_txt_set, small_txt_set))\n",
    "\n",
    "    #calculate the levenshtein distance using the strings\n",
    "    levenshtein_distance_small.append(levenshtein_distance(xml_txt, small_txt)/len(xml_txt))\n",
    "    "
   ]
  },
  {
   "cell_type": "code",
   "execution_count": 42,
   "metadata": {},
   "outputs": [],
   "source": [
    "# similarly calculate the jaccard similarity and levenshtein distance for .xml.txt files and medium.en.txt files\n",
    "\n",
    "jaccard_similarity_medium = []\n",
    "levenshtein_distance_medium = []\n",
    "\n",
    "for xml_txt_file, medium_file in zip(xml_txt_files, medium_files):\n",
    "    #read the xml.txt file\n",
    "    with open(xml_txt_file, 'r') as f:\n",
    "        xml_txt = f.read()\n",
    "    \n",
    "    #read the medium.en.txt file\n",
    "    with open(medium_file, 'r') as f:\n",
    "        medium_txt = f.read()\n",
    "    #lowercase both the txt list\n",
    "    xml_txt = xml_txt.lower()\n",
    "    medium_txt = medium_txt.lower()\n",
    "    #create sets so that we can calculate the jaccard similarity\n",
    "    xml_txt_set = set(xml_txt.split())\n",
    "    medium_txt_set = set(medium_txt.split())\n",
    "\n",
    "    jaccard_similarity_medium.append(jaccard_similarity(xml_txt_set, medium_txt_set))\n",
    "\n",
    "    #calculate the levenshtein distance using the strings\n",
    "    levenshtein_distance_medium.append(levenshtein_distance(xml_txt, medium_txt)/len(xml_txt))"
   ]
  },
  {
   "cell_type": "markdown",
   "metadata": {},
   "source": [
    "# Ploting the graphs"
   ]
  },
  {
   "cell_type": "markdown",
   "metadata": {},
   "source": [
    "### Graph of Jaccard Similarity over the models"
   ]
  },
  {
   "cell_type": "code",
   "execution_count": 43,
   "metadata": {},
   "outputs": [
    {
     "data": {
      "image/png": "[encoded data removed]",
      "text/plain": [
       "<Figure size 360x360 with 1 Axes>"
      ]
     },
     "metadata": {
      "needs_background": "light"
     },
     "output_type": "display_data"
    }
   ],
   "source": [
    "# plot jaccard similarity over the xml files\n",
    "\n",
    "plt.figure(figsize=(5, 5))\n",
    "plt.plot(jaccard_similarity_tiny, label='tiny')\n",
    "plt.plot(jaccard_similarity_base, label='base')\n",
    "plt.plot(jaccard_similarity_small, label='small')\n",
    "plt.plot(jaccard_similarity_medium, label='medium')\n",
    "plt.legend()\n",
    "plt.xlabel('xml files')\n",
    "plt.ylabel('jaccard similarity')\n",
    "plt.title('jaccard similarity over the xml files')\n",
    "plt.show()"
   ]
  },
  {
   "cell_type": "code",
   "execution_count": 45,
   "metadata": {},
   "outputs": [
    {
     "data": {
      "image/png": "[encoded data removed]",
      "text/plain": [
       "<Figure size 360x360 with 1 Axes>"
      ]
     },
     "metadata": {
      "needs_background": "light"
     },
     "output_type": "display_data"
    }
   ],
   "source": [
    "# plot levenshtein distance over the 8 files\n",
    "\n",
    "plt.figure(figsize=(5, 5))\n",
    "plt.plot(levenshtein_distance_tiny, label='tiny')\n",
    "plt.plot(levenshtein_distance_base, label='base')\n",
    "plt.plot(levenshtein_distance_small, label='small')\n",
    "plt.plot(levenshtein_distance_medium, label='medium')\n",
    "plt.legend()\n",
    "plt.xlabel('xml files')\n",
    "plt.xlabel('File Number')\n",
    "plt.ylabel('Levenshtein Distance')\n",
    "plt.title('Levenshtein Distance over the xml files')\n",
    "plt.show()"
   ]
  },
  {
   "cell_type": "code",
   "execution_count": null,
   "metadata": {},
   "outputs": [],
   "source": []
  }
 ],
 "metadata": {
  "kernelspec": {
   "display_name": "Python 3 (ipykernel)",
   "language": "python",
   "name": "python3"
  },
  "language_info": {
   "codemirror_mode": {
    "name": "ipython",
    "version": 3
   },
   "file_extension": ".py",
   "mimetype": "text/x-python",
   "name": "python",
   "nbconvert_exporter": "python",
   "pygments_lexer": "ipython3",
   "version": "3.9.7"
  },
  "vscode": {
   "interpreter": {
    "hash": "e42701c7312a0acf303ea5e8d69e18f8e37004062c0c49da56548b53e5cf4e88"
   }
  }
 },
 "nbformat": 4,
 "nbformat_minor": 2
}
